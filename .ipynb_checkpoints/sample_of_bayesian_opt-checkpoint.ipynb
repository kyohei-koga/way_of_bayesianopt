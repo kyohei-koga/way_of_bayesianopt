{
 "cells": [
  {
   "cell_type": "code",
   "execution_count": null,
   "metadata": {},
   "outputs": [],
   "source": [
    "import pandas as pd\n",
    "import numpy as np\n",
    "from read_house_data # 自作関数 趣旨とは関係ない\n",
    "\n",
    "from sklearn.model_selection import cross_val_score\n",
    "from bayes_opt import BayesianOptimization"
   ]
  },
  {
   "cell_type": "code",
   "execution_count": null,
   "metadata": {},
   "outputs": [],
   "source": [
    "# データの読み込み\n",
    "path_train = '../input/train.csv'\n",
    "path_test = '../input/test.csv'\n",
    "train, y, test = read_house_data.read_data(path_train, path_test)\n",
    "X = train.values"
   ]
  },
  {
   "cell_type": "code",
   "execution_count": null,
   "metadata": {},
   "outputs": [],
   "source": [
    "# リッジ回帰で最適化\n",
    "from sklearn.linear_model import BayesianRidge\n",
    "\n",
    "# 評価関数の作成\n",
    "# パラメータはハイパーパラメータ\n",
    "def validate(alpha_1, alpha_2, lambda_1, lambda_2):\n",
    "    model = BayesianRidge(alpha_1=alpha_1,\n",
    "                          alpha_2=alpha_2,\n",
    "                          lambda_1=lambda_1,\n",
    "                          lambda_2=lambda_2)\n",
    "    \n",
    "    result = -cross_val_score(model, X, y, scorint='neg_mean_squared_error', cv=10) # 評価関数\n",
    "    result = np.sqrt(result)\n",
    "    \n",
    "    return -result.mean() # 最大化をするので、マイナスを付け直す。\n",
    "\n",
    "# パラメータの領域\n",
    "pbounds = {\n",
    "    'alpha_1': (1e-08, 10.),\n",
    "    'alpha_2': (1e-08, 10.),\n",
    "    'lambda_1': (1e-08, 10.),\n",
    "    'lambda_2': (1e-08, 10.)\n",
    "}\n",
    "\n",
    "optimizer = BayesianOptimization(f=validate, pbounds=pbounds)\n",
    "\n",
    "optimizer.maximize(init_points=10, n_iter=10, acq='ucb')\n",
    "\n",
    "### 計算結果がずらずら出てくる。\n",
    "\n",
    "# 結果を見る。\n",
    "print(optimizer.res)\n",
    "\n",
    "# 最大値を取るパラメータを取得する。\n",
    "print(optimizer.max)"
   ]
  },
  {
   "cell_type": "code",
   "execution_count": null,
   "metadata": {},
   "outputs": [],
   "source": [
    "# ランダムフォレストの場合\n",
    "from sklearn.ensemble import RandomForestRegressor\n",
    "\n",
    "def validate(n_estimators, min_samples_split, max_features):\n",
    "    model = RandomForestRegressor(n_estimators=int(n_estimators), # 整数しか取らないパラメータにはint()\n",
    "                                  min_samples_split=int(min_samples_split),\n",
    "                                  max_features=max_features, random_state=1)\n",
    "    result = -corss_val_score(model, X, y, scorint='neg_mean_squared_error', cv=10, n_jobs=-1)\n",
    "    result = np.sqrt(result)\n",
    "    return -result.mean()\n",
    "\n",
    "pbounds = {\n",
    "    'n_estimators': (50, 200),\n",
    "    'min_samples_split': (2, 25),\n",
    "    'max_features': (0.1, 0.99)\n",
    "}\n",
    "\n",
    "optimizer = BayesianOptimization(f=validate, pbounds=pbounds)\n",
    "optimizer.maximize(init_points=10, n_iter=20, acq='ucb')"
   ]
  },
  {
   "cell_type": "code",
   "execution_count": null,
   "metadata": {},
   "outputs": [],
   "source": [
    "# ベイズ最適化　xgboost\n",
    "from xgboost import XGBRegressor\n",
    "\n",
    "def validate(max_depth, learning_rate, subsample, colsample_bytree, min_child_weight, reg_lambda):    \n",
    "    model = XGBRegressor(max_depth=int(max_depth),\n",
    "                         learning_rate=learning_rate,\n",
    "                         subsample=subsample,\n",
    "                         colsample_bytree=colsample_bytree,\n",
    "                         min_child_weight=int(min_child_weight),\n",
    "                         reg_lmabda=reg_lambda,\n",
    "                         random_state=1, n_jobs=-1, n_estimators=500)\n",
    "    \n",
    "    result = -cross_val_score(model, X, y, scoring='neg_mean_squared_error', cv=10)\n",
    "    result = np.sqrt(result)\n",
    "    return -result.mean()\n",
    "\n",
    "pbounds = {\n",
    "    'max_depth': (5, 15),\n",
    "    'learning_rate': (0.1, 0.9),\n",
    "    'subsample': (0.5, 1),\n",
    "    'colsample_bytree': (0.1, 1),\n",
    "    'min_child_weight': (1, 20),\n",
    "    'reg_lambda': (0, 10)\n",
    "}\n",
    "    \n",
    "optimizer = BayesianOptimization(f=validate, pbounds=pbounds)\n",
    "optimizer.maximize(init_points=10, n_iter=10, acq='ucb')"
   ]
  },
  {
   "cell_type": "markdown",
   "metadata": {},
   "source": [
    "参考にしたURL:\n",
    "https://ohke.hateblo.jp/entry/2018/08/04/230000"
   ]
  }
 ],
 "metadata": {
  "kernelspec": {
   "display_name": "Python 3",
   "language": "python",
   "name": "python3"
  },
  "language_info": {
   "codemirror_mode": {
    "name": "ipython",
    "version": 3
   },
   "file_extension": ".py",
   "mimetype": "text/x-python",
   "name": "python",
   "nbconvert_exporter": "python",
   "pygments_lexer": "ipython3",
   "version": "3.7.3"
  }
 },
 "nbformat": 4,
 "nbformat_minor": 2
}
